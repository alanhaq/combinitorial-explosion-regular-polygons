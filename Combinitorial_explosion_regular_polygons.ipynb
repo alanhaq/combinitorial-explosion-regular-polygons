{
 "cells": [
  {
   "cell_type": "code",
   "execution_count": 170,
   "metadata": {},
   "outputs": [],
   "source": [
    "import random\n",
    "import itertools\n",
    "import math\n",
    "\n",
    "class Puzzle:\n",
    "    def __init__(self, num=3, edges = [], puzzle = []):\n",
    "        self.num = num\n",
    "        self.edges = edges\n",
    "        self.puzzle = puzzle\n",
    "        \n",
    "    def new_nut(self):\n",
    "        x = random.randint(0, self.num)\n",
    "        rand_list = random.sample(range(2,self.num+1), self.num-1)\n",
    "        self.edges = self.edges + [1] + rand_list\n",
    "        return self.edges\n",
    "    \n",
    "    def new_puzzle(self):\n",
    "        a_puzzle = []\n",
    "        self.puzzle = []\n",
    "        while len(self.puzzle) <= self.num:\n",
    "            potential_nut = Puzzle.new_nut(self)\n",
    "            self.edges = []\n",
    "            if len(self.puzzle) < 1:\n",
    "                self.puzzle.append(potential_nut)\n",
    "            elif self.num <= 3:\n",
    "                self.puzzle.append(potential_nut)\n",
    "            else:\n",
    "                checker = True\n",
    "                for item in self.puzzle:\n",
    "                    if potential_nut == item:\n",
    "                        checker = False\n",
    "                if checker == True:\n",
    "                    self.puzzle.append(potential_nut)\n",
    "        a_puzzle = self.puzzle.copy()\n",
    "        return a_puzzle\n",
    "                    \n",
    "    def main(self, puzzle_list):\n",
    "        solution = []\n",
    "        for permutation in itertools.permutations(puzzle_list):\n",
    "            half_puzzle = list(permutation)\n",
    "            center_nut = list(permutation[0])\n",
    "            for x in range(0, self.num):\n",
    "                while center_nut[x] != half_puzzle[x+1][0]:\n",
    "                    half_puzzle[x+1] = Puzzle.rotate_nut(self, half_puzzle[x+1])\n",
    "            if Puzzle.check_solution(self, half_puzzle):\n",
    "                solution = str(half_puzzle)\n",
    "                print('You found a solution!')\n",
    "                print('****', half_puzzle)\n",
    "                return (solution)\n",
    "        if solution == []:\n",
    "            print('There is no solution.')\n",
    "            \n",
    "    def main2(self, puzzle_test):\n",
    "        solution = []\n",
    "        solutions = 0\n",
    "        puzzle_list = puzzle_test.copy()\n",
    "        permutes = int(math.ceil(self.num/2)) + 1\n",
    "        if self.num == 3:\n",
    "            permutes = 4\n",
    "        for permutation in itertools.permutations(puzzle_list, permutes):\n",
    "            partial_puzzle = list(permutation)\n",
    "            remaining_puzzle = []\n",
    "                #remaining_puzzle gives the nuts that will tested to see if they fit in spaces\n",
    "            for nut in puzzle_list:\n",
    "                if not nut in partial_puzzle:\n",
    "                    remaining_puzzle.append(nut)  \n",
    "                #this gets every combo of 4 nuts\n",
    "                #partial_puzzle gives the nuts that will be fixed to check if remaining nuts can fit \n",
    "                #first check to see if the fixed nuts work, if they do then continue\n",
    "            if self.num == 3:\n",
    "                remaining_puzzle = [partial_puzzle.pop(-1)]\n",
    "            for sub_permutation in itertools.permutations(remaining_puzzle):\n",
    "                other_puzzle = list(sub_permutation)\n",
    "                if Puzzle.prune_check(self, partial_puzzle, other_puzzle):\n",
    "                    solution.append(Puzzle.combine_puzzle(self, partial_puzzle, other_puzzle))\n",
    "                    return solution\n",
    "        if solution == []:\n",
    "            print('There is no solution.')\n",
    "\n",
    "    def brute_force(self, puzzle_list):\n",
    "        solution = []\n",
    "        solutions = 0\n",
    "        for permutation in itertools.permutations(puzzle_list):\n",
    "            half_puzzle = list(permutation)\n",
    "            center_nut = list(permutation[0])\n",
    "            for x in range(0, self.num):\n",
    "                while center_nut[x] != half_puzzle[x+1][0]:\n",
    "                    half_puzzle[x+1] = Puzzle.rotate_nut(self, half_puzzle[x+1])\n",
    "            if Puzzle.check_solution(self, half_puzzle):\n",
    "                solution.insert(-1, str(half_puzzle))\n",
    "                solutions += 1\n",
    "                #print('You found a solution!')\n",
    "                #print('****', half_puzzle)\n",
    "        if solution == []:\n",
    "            #print('There is no solution.')\n",
    "            return -1\n",
    "        else:\n",
    "            print('You found', solutions, 'solution/s')\n",
    "            return solution  \n",
    "        \n",
    "    def prune(self, puzzle_test):\n",
    "        solution = []\n",
    "        solutions = 0\n",
    "        puzzle_list = puzzle_test.copy()\n",
    "        permutes = int(math.ceil(self.num/2)) + 1\n",
    "        if self.num == 3:\n",
    "            permutes = 4\n",
    "        for permutation in itertools.permutations(puzzle_list, permutes):\n",
    "            partial_puzzle = list(permutation)\n",
    "            remaining_puzzle = []\n",
    "                #remaining_puzzle gives the nuts that will tested to see if they fit in spaces\n",
    "            for nut in puzzle_list:\n",
    "                if not nut in partial_puzzle:\n",
    "                    remaining_puzzle.append(nut)  \n",
    "                #this gets every combo of 4 nuts\n",
    "                #partial_puzzle gives the nuts that will be fixed to check if remaining nuts can fit \n",
    "                #first check to see if the fixed nuts work, if they do then continue\n",
    "            if self.num == 3:\n",
    "                remaining_puzzle = [partial_puzzle.pop(-1)]\n",
    "            for sub_permutation in itertools.permutations(remaining_puzzle):\n",
    "                other_puzzle = list(sub_permutation)\n",
    "                if Puzzle.prune_check(self, partial_puzzle, other_puzzle):\n",
    "                    solution.append(Puzzle.combine_puzzle(self, partial_puzzle, other_puzzle))\n",
    "                    solutions += 1\n",
    "                    #print('You found a solution!')\n",
    "                    #print('***', solution[-1])\n",
    "                    # this check will see if the remining pieces will fit\n",
    "        if solution == []:\n",
    "            #print('There is no solution.')\n",
    "            return -1\n",
    "        else:\n",
    "            print('You found', solutions, 'solution/s')\n",
    "            return solution\n",
    "            \n",
    "    def graph(self, n):\n",
    "        test_puzzles = []\n",
    "        zero_solutions = 0\n",
    "        one_solutions = 0\n",
    "        more_solutions = 0\n",
    "        numbr = 0\n",
    "        max = 0\n",
    "        solution = []\n",
    "        for x in range(0,n):\n",
    "            Puzzle.new_puzzle(self)\n",
    "            test_puzzles.insert(-1, self.puzzle.copy())\n",
    "        for x in range(0,n):\n",
    "            numbr = int(Puzzle.brute_force(self, test_puzzles[x]))\n",
    "            if max < numbr:\n",
    "                max = numbr\n",
    "            if numbr == -1:\n",
    "                zero_solutions += 1\n",
    "            if numbr == 1:\n",
    "                one_solutions += 1\n",
    "            if numbr > 1:\n",
    "                more_solutions += 1\n",
    "        print('For', n, 'puzzles there are:', zero_solutions, 'with no solutions;', one_solutions, 'with one solution;', more_solutions, 'with more than 1 solution.')\n",
    "        print('The most solutions found in a puzzle were', max)\n",
    "        \n",
    "    def rotate_nut(self, nut):\n",
    "        n = 0\n",
    "        new_nut = nut.copy()\n",
    "        while n < 1:\n",
    "            temp_num = new_nut.pop(0)\n",
    "            new_nut.append(temp_num)\n",
    "            n = n + 1\n",
    "        return new_nut\n",
    "        \n",
    "    def check_solution(self, puzzle):\n",
    "        puzzleR = puzzle.copy()\n",
    "        for x in range(0, len(puzzleR)-1):\n",
    "            if (x+2) > len(puzzleR)-1:\n",
    "                if puzzleR[x+1][-1] != puzzleR[1][1]:\n",
    "                    return False\n",
    "            elif puzzleR[x+1][-1] != puzzleR[(x+2) % (self.num+1)][1]:\n",
    "                return False\n",
    "        return True\n",
    "        \n",
    "    def prune_check(self, puzzle1, puzzle2):\n",
    "        puzzleA = puzzle1\n",
    "        puzzleB = puzzle2\n",
    "        n = 1\n",
    "        for x in range(0, len(puzzleA)-1):\n",
    "            while puzzleA[0][x*2] != puzzleA[x+1][0]:\n",
    "                puzzleA[x+1] = Puzzle.rotate_nut(self, puzzleA[x+1])\n",
    "            #rotate fixed nuts so inside edges match\n",
    "        for x in range(1, len(puzzleB)+1):\n",
    "            if len(puzzleB) == 1:\n",
    "                while puzzleA[0][x] != puzzleB[0][0]:\n",
    "                    puzzleB[0] = Puzzle.rotate_nut(self, puzzleB[0])\n",
    "                break\n",
    "            while puzzleA[0][x*2-1] != puzzleB[x-1][0]:\n",
    "                puzzleB[x-1] = Puzzle.rotate_nut(self, puzzleB[x-1])\n",
    "            #rotate other nuts so inside edges match\n",
    "        if len(puzzleB) == 1 or len(puzzleA)-len(puzzleB) > 1:\n",
    "            n = 2\n",
    "        for x in range(0, len(puzzleA) - n):    #this will change depending on odd/even nuts (-2 or -1)\n",
    "            if len(puzzleB) == 1:     #special case for 3\n",
    "                if puzzleA[x+1][-1] != puzzleB[0][1]:\n",
    "                    print('1')\n",
    "                    return False\n",
    "                if puzzleA[x+2][1] != puzzleB[0][-1]:\n",
    "                    print('2')\n",
    "                    return False\n",
    "                if puzzleA[1][1] != puzzleA[x+2][-1]:\n",
    "                    print('3')\n",
    "                    return False\n",
    "            elif x+2 >= len(puzzleA) and n==2:\n",
    "                if puzzleA[1][1] != puzzleA[x+1][-1]:\n",
    "                    return False\n",
    "            elif x+2 >= len(puzzleA):\n",
    "                if puzzleA[x+1][-1] != puzzleB[x][1]:\n",
    "                    return False\n",
    "                if puzzleA[1][1] != puzzleB[x][-1]:\n",
    "                    return False\n",
    "            else:\n",
    "                if puzzleA[x+1][-1] != puzzleB[x][1]:\n",
    "                    return False\n",
    "                if puzzleA[x+2][1] != puzzleB[x][-1]:\n",
    "                    return False\n",
    "        return True\n",
    "        \n",
    "    def combine_puzzle(self, puzzle1 = [], puzzle2 = []):\n",
    "        puzzleA = puzzle1.copy()\n",
    "        puzzleB = puzzle2.copy()\n",
    "        solution_nut = []\n",
    "        solution_nut.append(puzzleA.pop(0))\n",
    "        while puzzleA or puzzleB:\n",
    "            if puzzleA:\n",
    "                solution_nut.append(puzzleA.pop(0))\n",
    "            if puzzleB:\n",
    "                solution_nut.append(puzzleB.pop(0))\n",
    "        return(str(solution_nut))\n",
    "        \n",
    "        \n",
    "#newPuzzle = Puzzle(8)\n",
    "#newPuzzle.new_puzzle()\n",
    "#newPuzzle.self.puzzle = [[1,6,5,3,2,4],[1,2,3,4,5,6],[1,6,4,2,5,3],[1,4,3,6,5,2],[1,6,2,4,5,3],[1,4,6,2,3,5],[1,6,5,4,3,2]]\n",
    "#[1,6,5,3,2,4],[1,2,3,4,5,6],[1,6,4,2,5,3],[1,4,3,6,5,2],[1,6,2,4,5,3],[1,4,6,2,3,5],[1,6,5,4,3,2]\n",
    "#[3,1,6,2,4,5],[3,2,1,6,5,4],[1,4,6,2,3,5],[6,5,3,2,4,1],[2,1,4,3,6,5],[4,5,6,1,2,3],[5,3,1,6,4,2]\n",
    "#newPuzzle.prune_check([[3,1,6,2,4,5],[3,2,1,6,5,4],[6,5,3,2,4,1],[4,5,6,1,2,3]],[[1,4,6,2,3,5],[2,1,4,3,6,5],[5,3,1,6,4,2]])\n",
    "#newPuzzle.prune_check([[1,6,2,4,5,3],[6,1,2,3,4,5],[3,2,1,6,5,4],[4,1,6,5,3,2]],[[2,5,3,1,6,4],[3,5,1,4,6,2],[5,2,1,4,3,6]])\n",
    "#newPuzzle.combine_puzzle([[3,1,6,2,4,5],[3,2,1,6,5,4],[6,5,3,2,4,1],[4,5,6,1,2,3]],[[1,4,6,2,3,5],[2,1,4,3,6,5],[5,3,1,6,4,2]])\n",
    "\n",
    "#newPuzzle.brute_force(newPuzzle.new_puzzle())\n",
    "#newPuzzle.prune(newPuzzle.new_puzzle())\n",
    "#newPuzzle.main(newPuzzle.new_puzzle())\n",
    "#newPuzzle.graph(20)\n"
   ]
  },
  {
   "cell_type": "code",
   "execution_count": 2,
   "metadata": {},
   "outputs": [
    {
     "name": "stdout",
     "output_type": "stream",
     "text": [
      "[[1, 3, 4, 6, 5, 2], [1, 3, 5, 2, 4, 6], [1, 3, 6, 2, 5, 4], [1, 6, 2, 5, 4, 3], [1, 6, 5, 4, 2, 3], [1, 5, 6, 2, 3, 4], [1, 4, 5, 2, 3, 6]]\n"
     ]
    }
   ],
   "source": [
    "#This is my Generate method\n",
    "\n",
    "newPuzzle = Puzzle(6)\n",
    "puzzle = newPuzzle.new_puzzle()\n",
    "print(puzzle)"
   ]
  },
  {
   "cell_type": "code",
   "execution_count": 13,
   "metadata": {},
   "outputs": [
    {
     "data": {
      "text/plain": [
       "'[[1, 5, 3, 4, 2, 6], [1, 5, 6, 2, 3, 4], [5, 4, 6, 3, 1, 2], [3, 2, 5, 4, 1, 6], [4, 6, 3, 5, 2, 1], [2, 1, 4, 6, 5, 3], [6, 3, 4, 2, 1, 5]]'"
      ]
     },
     "execution_count": 13,
     "metadata": {},
     "output_type": "execute_result"
    }
   ],
   "source": [
    "#This is my Solver(brute force)\n",
    "\n",
    "newPuzzle = Puzzle(6)\n",
    "puzzle = newPuzzle.new_puzzle()\n",
    "newPuzzle.brute_force(puzzle)"
   ]
  },
  {
   "cell_type": "code",
   "execution_count": 41,
   "metadata": {},
   "outputs": [
    {
     "data": {
      "text/plain": [
       "'[[1, 4, 6, 3, 2, 5], [1, 6, 4, 3, 2, 5], [4, 5, 2, 3, 6, 1], [6, 1, 4, 3, 5, 2], [3, 2, 4, 1, 6, 5], [2, 5, 3, 6, 4, 1], [5, 1, 3, 4, 2, 6]]'"
      ]
     },
     "execution_count": 41,
     "metadata": {},
     "output_type": "execute_result"
    }
   ],
   "source": [
    "#This is my Solver(prune)\n",
    "\n",
    "newPuzzle = Puzzle(6)\n",
    "puzzle = newPuzzle.new_puzzle()\n",
    "newPuzzle.prune(puzzle)\n"
   ]
  },
  {
   "cell_type": "code",
   "execution_count": 81,
   "metadata": {},
   "outputs": [
    {
     "name": "stdout",
     "output_type": "stream",
     "text": [
      "You found 1 solution/s\n"
     ]
    },
    {
     "data": {
      "text/plain": [
       "['[[1, 6, 4, 2, 3, 5], [1, 2, 4, 6, 3, 5], [6, 5, 4, 2, 1, 3], [4, 3, 6, 1, 2, 5], [2, 5, 3, 4, 6, 1], [3, 1, 2, 5, 4, 6], [5, 6, 3, 4, 1, 2]]']"
      ]
     },
     "execution_count": 81,
     "metadata": {},
     "output_type": "execute_result"
    }
   ],
   "source": [
    "#This is my Solver(brute force) with a count\n",
    "\n",
    "newPuzzle = Puzzle(6)\n",
    "puzzle = newPuzzle.new_puzzle()\n",
    "newPuzzle.brute_force(puzzle)"
   ]
  },
  {
   "cell_type": "code",
   "execution_count": 89,
   "metadata": {},
   "outputs": [
    {
     "name": "stdout",
     "output_type": "stream",
     "text": [
      "You found 2 solution/s\n"
     ]
    },
    {
     "data": {
      "text/plain": [
       "['[[1, 5, 3, 2, 4], [1, 5, 2, 4, 3], [5, 3, 4, 2, 1], [3, 1, 4, 2, 5], [2, 5, 4, 1, 3], [4, 3, 2, 1, 5]]',\n",
       " '[[1, 5, 3, 2, 4], [1, 5, 3, 4, 2], [5, 2, 4, 3, 1], [3, 1, 4, 2, 5], [2, 5, 4, 1, 3], [4, 3, 2, 1, 5]]']"
      ]
     },
     "execution_count": 89,
     "metadata": {},
     "output_type": "execute_result"
    }
   ],
   "source": [
    " #This is my Solver(brute force) with a count\n",
    "\n",
    "newPuzzle = Puzzle(5)\n",
    "puzzle = newPuzzle.new_puzzle()\n",
    "newPuzzle.brute_force(puzzle)"
   ]
  },
  {
   "cell_type": "code",
   "execution_count": 92,
   "metadata": {},
   "outputs": [
    {
     "name": "stdout",
     "output_type": "stream",
     "text": [
      "There is no solution.\n"
     ]
    }
   ],
   "source": [
    "#This is my Main method that shows one hexnut solution\n",
    "\n",
    "newPuzzle = Puzzle(6)\n",
    "puzzle = newPuzzle.new_puzzle()\n",
    "newPuzzle.main(puzzle)"
   ]
  },
  {
   "cell_type": "code",
   "execution_count": 122,
   "metadata": {},
   "outputs": [
    {
     "name": "stdout",
     "output_type": "stream",
     "text": [
      "You found a solution!\n",
      "**** [[1, 3, 5, 4, 2, 6], [1, 2, 5, 3, 4, 6], [3, 6, 5, 2, 1, 4], [5, 4, 3, 6, 2, 1], [4, 1, 3, 2, 6, 5], [2, 5, 6, 4, 3, 1], [6, 1, 3, 4, 5, 2]]\n"
     ]
    },
    {
     "data": {
      "text/plain": [
       "'[[1, 3, 5, 4, 2, 6], [1, 2, 5, 3, 4, 6], [3, 6, 5, 2, 1, 4], [5, 4, 3, 6, 2, 1], [4, 1, 3, 2, 6, 5], [2, 5, 6, 4, 3, 1], [6, 1, 3, 4, 5, 2]]'"
      ]
     },
     "execution_count": 122,
     "metadata": {},
     "output_type": "execute_result"
    }
   ],
   "source": [
    "#This is my Main method that shows one hexnut solution\n",
    "\n",
    "newPuzzle = Puzzle(6)\n",
    "puzzle = newPuzzle.new_puzzle()\n",
    "newPuzzle.main(puzzle)"
   ]
  },
  {
   "cell_type": "code",
   "execution_count": 123,
   "metadata": {},
   "outputs": [
    {
     "name": "stdout",
     "output_type": "stream",
     "text": [
      "You found a solution!\n",
      "**** [[1, 3, 2, 4], [1, 2, 3, 4], [3, 4, 2, 1], [2, 1, 4, 3], [4, 3, 1, 2]]\n",
      "--- 0.001004934310913086 seconds ---\n",
      "--- 0.0008780956268310547 seconds ---\n"
     ]
    }
   ],
   "source": [
    "#The main method runs using brute force while main2 runs using prune\n",
    "\n",
    "import time\n",
    "newPuzzle = Puzzle(4)\n",
    "puzzle = newPuzzle.new_puzzle()\n",
    "\n",
    "\n",
    "start_time = time.time()\n",
    "#puzzle = newPuzzle.new_puzzle()\n",
    "newPuzzle.main(puzzle)\n",
    "print(\"--- %s seconds ---\" % (time.time() - start_time))\n",
    "\n",
    "start_time = time.time()\n",
    "#puzzle = newPuzzle.new_puzzle()\n",
    "newPuzzle.main2(puzzle)\n",
    "print(\"--- %s seconds ---\" % (time.time() - start_time))"
   ]
  },
  {
   "cell_type": "code",
   "execution_count": 125,
   "metadata": {},
   "outputs": [
    {
     "name": "stdout",
     "output_type": "stream",
     "text": [
      "You found a solution!\n",
      "**** [[1, 5, 2, 3, 4], [1, 3, 5, 2, 4], [5, 4, 3, 2, 1], [2, 1, 3, 5, 4], [3, 4, 1, 2, 5], [4, 5, 1, 2, 3]]\n",
      "--- 0.0006630420684814453 seconds ---\n",
      "--- 0.0001480579376220703 seconds ---\n"
     ]
    }
   ],
   "source": [
    "#The main method runs using brute force while main2 runs using prune\n",
    "\n",
    "import time\n",
    "newPuzzle = Puzzle(5)\n",
    "puzzle = newPuzzle.new_puzzle()\n",
    "\n",
    "\n",
    "start_time = time.time()\n",
    "#puzzle = newPuzzle.new_puzzle()\n",
    "newPuzzle.main(puzzle)\n",
    "print(\"--- %s seconds ---\" % (time.time() - start_time))\n",
    "\n",
    "start_time = time.time()\n",
    "#puzzle = newPuzzle.new_puzzle()\n",
    "newPuzzle.main2(puzzle)\n",
    "print(\"--- %s seconds ---\" % (time.time() - start_time))"
   ]
  },
  {
   "cell_type": "code",
   "execution_count": 167,
   "metadata": {},
   "outputs": [
    {
     "name": "stdout",
     "output_type": "stream",
     "text": [
      "You found a solution!\n",
      "**** [[1, 3, 6, 5, 2, 4], [1, 6, 2, 5, 3, 4], [3, 4, 5, 6, 2, 1], [6, 1, 4, 5, 3, 2], [5, 2, 4, 3, 6, 1], [2, 1, 6, 4, 5, 3], [4, 3, 2, 1, 5, 6]]\n",
      "--- 0.03554105758666992 seconds ---\n",
      "--- 0.023511171340942383 seconds ---\n"
     ]
    }
   ],
   "source": [
    "#The main method runs using brute force while main2 runs using prune\n",
    "\n",
    "import time\n",
    "newPuzzle = Puzzle(6)\n",
    "puzzle = newPuzzle.new_puzzle()\n",
    "\n",
    "\n",
    "start_time = time.time()\n",
    "#puzzle = newPuzzle.new_puzzle()\n",
    "newPuzzle.main(puzzle)\n",
    "print(\"--- %s seconds ---\" % (time.time() - start_time))\n",
    "\n",
    "start_time = time.time()\n",
    "#puzzle = newPuzzle.new_puzzle()\n",
    "newPuzzle.main2(puzzle)\n",
    "print(\"--- %s seconds ---\" % (time.time() - start_time))"
   ]
  },
  {
   "cell_type": "code",
   "execution_count": 172,
   "metadata": {},
   "outputs": [
    {
     "name": "stdout",
     "output_type": "stream",
     "text": [
      "There is no solution.\n",
      "--- 11.196243047714233 seconds ---\n"
     ]
    }
   ],
   "source": [
    "#This is how long it takes to run one size 8 puzzle\n",
    "\n",
    "import time\n",
    "newPuzzle = Puzzle(8)\n",
    "puzzle = newPuzzle.new_puzzle()\n",
    "\n",
    "start_time = time.time()\n",
    "#puzzle = newPuzzle.new_puzzle()\n",
    "newPuzzle.main2(puzzle)\n",
    "print(\"--- %s seconds ---\" % (time.time() - start_time))"
   ]
  },
  {
   "cell_type": "code",
   "execution_count": 173,
   "metadata": {},
   "outputs": [
    {
     "name": "stdout",
     "output_type": "stream",
     "text": [
      "There is no solution.\n",
      "--- 111.42635989189148 seconds ---\n"
     ]
    }
   ],
   "source": [
    "#This is how long it takes to run one size 9 puzzle\n",
    "\n",
    "import time\n",
    "newPuzzle = Puzzle(9)\n",
    "puzzle = newPuzzle.new_puzzle()\n",
    "\n",
    "start_time = time.time()\n",
    "#puzzle = newPuzzle.new_puzzle()\n",
    "newPuzzle.main2(puzzle)\n",
    "print(\"--- %s seconds ---\" % (time.time() - start_time))"
   ]
  },
  {
   "cell_type": "code",
   "execution_count": 175,
   "metadata": {},
   "outputs": [
    {
     "name": "stdout",
     "output_type": "stream",
     "text": [
      "There is no solution.\n",
      "--- 2228.541838169098 seconds ---\n"
     ]
    }
   ],
   "source": [
    "#This is how long it takes to run a size 10 puzzle\n",
    "\n",
    "import time\n",
    "newPuzzle = Puzzle(10)\n",
    "puzzle = newPuzzle.new_puzzle()\n",
    "\n",
    "start_time = time.time()\n",
    "#puzzle = newPuzzle.new_puzzle()\n",
    "newPuzzle.main2(puzzle)\n",
    "print(\"--- %s seconds ---\" % (time.time() - start_time))"
   ]
  },
  {
   "cell_type": "code",
   "execution_count": null,
   "metadata": {},
   "outputs": [],
   "source": []
  }
 ],
 "metadata": {
  "kernelspec": {
   "display_name": "Python 3",
   "language": "python",
   "name": "python3"
  },
  "language_info": {
   "codemirror_mode": {
    "name": "ipython",
    "version": 3
   },
   "file_extension": ".py",
   "mimetype": "text/x-python",
   "name": "python",
   "nbconvert_exporter": "python",
   "pygments_lexer": "ipython3",
   "version": "3.7.1"
  }
 },
 "nbformat": 4,
 "nbformat_minor": 2
}
